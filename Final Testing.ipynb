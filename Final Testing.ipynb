{
 "cells": [
  {
   "cell_type": "markdown",
   "id": "5477ad0e",
   "metadata": {},
   "source": [
    "В данном файле производится сравнение изображений, сгенерированных с помощью GAN, с изображениями, снятыми на телефон. Изображения не подвергались никакой предварительной обработке кроме уменьшения размера."
   ]
  },
  {
   "cell_type": "code",
   "execution_count": 15,
   "id": "022cf5de",
   "metadata": {},
   "outputs": [],
   "source": [
    "import src.Functions as Fu\n",
    "import src.Filter as Ft\n",
    "import src.getFingerprint as gF\n",
    "import src.maindir as md\n",
    "import src.extraUtils as eu\n",
    "import numpy as np\n",
    "import os\n",
    "import cv2 as cv\n",
    "\n",
    "import skimage\n",
    "from skimage import io\n",
    "from PIL import Image"
   ]
  },
  {
   "cell_type": "markdown",
   "id": "b990ba86",
   "metadata": {},
   "source": [
    "Для снятия отпечатка камеры была собрана максимально усреднённая выборка из фотографий."
   ]
  },
  {
   "cell_type": "code",
   "execution_count": 2,
   "id": "62fcaaad",
   "metadata": {},
   "outputs": [
    {
     "data": {
      "text/plain": [
       "['algo_test\\\\originals\\\\IMG0.jpg',\n",
       " 'algo_test\\\\originals\\\\IMG1.jpg',\n",
       " 'algo_test\\\\originals\\\\IMG2.jpg',\n",
       " 'algo_test\\\\originals\\\\IMG3.jpg',\n",
       " 'algo_test\\\\originals\\\\IMG4.jpg',\n",
       " 'algo_test\\\\originals\\\\IMG5.jpg',\n",
       " 'algo_test\\\\originals\\\\IMG6.jpg',\n",
       " 'algo_test\\\\originals\\\\IMG7.jpg',\n",
       " 'algo_test\\\\originals\\\\IMG8.jpg',\n",
       " 'algo_test\\\\originals\\\\IMG9.jpg',\n",
       " 'algo_test\\\\originals\\\\IMG10.jpg',\n",
       " 'algo_test\\\\originals\\\\IMG11.jpg',\n",
       " 'algo_test\\\\originals\\\\IMG12.jpg',\n",
       " 'algo_test\\\\originals\\\\IMG13.jpg',\n",
       " 'algo_test\\\\originals\\\\IMG14.jpg',\n",
       " 'algo_test\\\\originals\\\\IMG15.jpg',\n",
       " 'algo_test\\\\originals\\\\IMG16.jpg',\n",
       " 'algo_test\\\\originals\\\\IMG17.jpg',\n",
       " 'algo_test\\\\originals\\\\IMG18.jpg',\n",
       " 'algo_test\\\\originals\\\\IMG19.jpg',\n",
       " 'algo_test\\\\originals\\\\IMG20.jpg',\n",
       " 'algo_test\\\\originals\\\\IMG21.jpg',\n",
       " 'algo_test\\\\originals\\\\IMG22.jpg',\n",
       " 'algo_test\\\\originals\\\\IMG23.jpg',\n",
       " 'algo_test\\\\originals\\\\IMG24.jpg',\n",
       " 'algo_test\\\\originals\\\\IMG25.jpg',\n",
       " 'algo_test\\\\originals\\\\IMG26.jpg',\n",
       " 'algo_test\\\\originals\\\\IMG27.jpg',\n",
       " 'algo_test\\\\originals\\\\IMG28.jpg',\n",
       " 'algo_test\\\\originals\\\\IMG29.jpg',\n",
       " 'algo_test\\\\originals\\\\IMG30.jpg',\n",
       " 'algo_test\\\\originals\\\\IMG31.jpg',\n",
       " 'algo_test\\\\originals\\\\IMG32.jpg',\n",
       " 'algo_test\\\\originals\\\\IMG33.jpg',\n",
       " 'algo_test\\\\originals\\\\IMG34.jpg',\n",
       " 'algo_test\\\\originals\\\\IMG35.jpg',\n",
       " 'algo_test\\\\originals\\\\IMG36.jpg',\n",
       " 'algo_test\\\\originals\\\\IMG37.jpg',\n",
       " 'algo_test\\\\originals\\\\IMG38.jpg',\n",
       " 'algo_test\\\\originals\\\\IMG39.jpg',\n",
       " 'algo_test\\\\originals\\\\IMG40.jpg',\n",
       " 'algo_test\\\\originals\\\\IMG41.jpg',\n",
       " 'algo_test\\\\originals\\\\IMG42.jpg',\n",
       " 'algo_test\\\\originals\\\\IMG43.jpg',\n",
       " 'algo_test\\\\originals\\\\IMG44.jpg',\n",
       " 'algo_test\\\\originals\\\\IMG45.jpg',\n",
       " 'algo_test\\\\originals\\\\IMG46.jpg',\n",
       " 'algo_test\\\\originals\\\\IMG47.jpg',\n",
       " 'algo_test\\\\originals\\\\IMG48.jpg',\n",
       " 'algo_test\\\\originals\\\\IMG49.jpg',\n",
       " 'algo_test\\\\originals\\\\IMG50.jpg',\n",
       " 'algo_test\\\\originals\\\\IMG51.jpg',\n",
       " 'algo_test\\\\originals\\\\IMG52.jpg',\n",
       " 'algo_test\\\\originals\\\\IMG53.jpg',\n",
       " 'algo_test\\\\originals\\\\IMG54.jpg',\n",
       " 'algo_test\\\\originals\\\\IMG55.jpg',\n",
       " 'algo_test\\\\originals\\\\IMG56.jpg',\n",
       " 'algo_test\\\\originals\\\\IMG57.jpg',\n",
       " 'algo_test\\\\originals\\\\IMG58.jpg',\n",
       " 'algo_test\\\\originals\\\\IMG59.jpg',\n",
       " 'algo_test\\\\originals\\\\IMG60.jpg',\n",
       " 'algo_test\\\\originals\\\\IMG61.jpg',\n",
       " 'algo_test\\\\originals\\\\IMG62.jpg',\n",
       " 'algo_test\\\\originals\\\\IMG63.jpg',\n",
       " 'algo_test\\\\originals\\\\IMG64.jpg',\n",
       " 'algo_test\\\\originals\\\\IMG65.jpg',\n",
       " 'algo_test\\\\originals\\\\IMG66.jpg',\n",
       " 'algo_test\\\\originals\\\\IMG67.jpg',\n",
       " 'algo_test\\\\originals\\\\IMG68.jpg',\n",
       " 'algo_test\\\\originals\\\\IMG69.jpg',\n",
       " 'algo_test\\\\originals\\\\IMG70.jpg',\n",
       " 'algo_test\\\\originals\\\\IMG71.jpg',\n",
       " 'algo_test\\\\originals\\\\IMG72.jpg',\n",
       " 'algo_test\\\\originals\\\\IMG73.jpg',\n",
       " 'algo_test\\\\originals\\\\IMG74.jpg',\n",
       " 'algo_test\\\\originals\\\\IMG75.jpg',\n",
       " 'algo_test\\\\originals\\\\IMG76.jpg',\n",
       " 'algo_test\\\\originals\\\\IMG77.jpg',\n",
       " 'algo_test\\\\originals\\\\IMG78.jpg',\n",
       " 'algo_test\\\\originals\\\\IMG79.jpg',\n",
       " 'algo_test\\\\originals\\\\IMG80.jpg',\n",
       " 'algo_test\\\\originals\\\\IMG81.jpg',\n",
       " 'algo_test\\\\originals\\\\IMG82.jpg',\n",
       " 'algo_test\\\\originals\\\\IMG83.jpg',\n",
       " 'algo_test\\\\originals\\\\IMG84.jpg',\n",
       " 'algo_test\\\\originals\\\\IMG85.jpg',\n",
       " 'algo_test\\\\originals\\\\IMG86.jpg',\n",
       " 'algo_test\\\\originals\\\\IMG87.jpg',\n",
       " 'algo_test\\\\originals\\\\IMG88.jpg',\n",
       " 'algo_test\\\\originals\\\\IMG89.jpg',\n",
       " 'algo_test\\\\originals\\\\IMG90.jpg',\n",
       " 'algo_test\\\\originals\\\\IMG91.jpg',\n",
       " 'algo_test\\\\originals\\\\IMG92.jpg',\n",
       " 'algo_test\\\\originals\\\\IMG93.jpg',\n",
       " 'algo_test\\\\originals\\\\IMG94.jpg',\n",
       " 'algo_test\\\\originals\\\\IMG95.jpg',\n",
       " 'algo_test\\\\originals\\\\IMG96.jpg',\n",
       " 'algo_test\\\\originals\\\\IMG97.jpg',\n",
       " 'algo_test\\\\originals\\\\IMG98.jpg',\n",
       " 'algo_test\\\\originals\\\\IMG99.jpg',\n",
       " 'algo_test\\\\originals\\\\IMG100.jpg',\n",
       " 'algo_test\\\\originals\\\\IMG101.jpg',\n",
       " 'algo_test\\\\originals\\\\IMG102.jpg',\n",
       " 'algo_test\\\\originals\\\\IMG103.jpg',\n",
       " 'algo_test\\\\originals\\\\IMG104.jpg',\n",
       " 'algo_test\\\\originals\\\\IMG105.jpg',\n",
       " 'algo_test\\\\originals\\\\IMG106.jpg',\n",
       " 'algo_test\\\\originals\\\\IMG107.jpg',\n",
       " 'algo_test\\\\originals\\\\IMG108.jpg',\n",
       " 'algo_test\\\\originals\\\\IMG109.jpg',\n",
       " 'algo_test\\\\originals\\\\IMG110.jpg',\n",
       " 'algo_test\\\\originals\\\\IMG111.jpg',\n",
       " 'algo_test\\\\originals\\\\IMG112.jpg',\n",
       " 'algo_test\\\\originals\\\\IMG113.jpg',\n",
       " 'algo_test\\\\originals\\\\IMG114.jpg',\n",
       " 'algo_test\\\\originals\\\\IMG115.jpg',\n",
       " 'algo_test\\\\originals\\\\IMG116.jpg',\n",
       " 'algo_test\\\\originals\\\\IMG117.jpg',\n",
       " 'algo_test\\\\originals\\\\IMG118.jpg',\n",
       " 'algo_test\\\\originals\\\\IMG119.jpg',\n",
       " 'algo_test\\\\originals\\\\IMG120.jpg',\n",
       " 'algo_test\\\\originals\\\\IMG121.jpg',\n",
       " 'algo_test\\\\originals\\\\IMG122.jpg',\n",
       " 'algo_test\\\\originals\\\\IMG123.jpg',\n",
       " 'algo_test\\\\originals\\\\IMG124.jpg',\n",
       " 'algo_test\\\\originals\\\\IMG125.jpg',\n",
       " 'algo_test\\\\originals\\\\IMG126.jpg',\n",
       " 'algo_test\\\\originals\\\\IMG127.jpg',\n",
       " 'algo_test\\\\originals\\\\IMG128.jpg',\n",
       " 'algo_test\\\\originals\\\\IMG129.jpg',\n",
       " 'algo_test\\\\originals\\\\IMG130.jpg',\n",
       " 'algo_test\\\\originals\\\\IMG131.jpg',\n",
       " 'algo_test\\\\originals\\\\IMG132.jpg',\n",
       " 'algo_test\\\\originals\\\\IMG133.jpg',\n",
       " 'algo_test\\\\originals\\\\IMG134.jpg',\n",
       " 'algo_test\\\\originals\\\\IMG135.jpg',\n",
       " 'algo_test\\\\originals\\\\IMG136.jpg',\n",
       " 'algo_test\\\\originals\\\\IMG137.jpg',\n",
       " 'algo_test\\\\originals\\\\IMG138.jpg',\n",
       " 'algo_test\\\\originals\\\\IMG139.jpg',\n",
       " 'algo_test\\\\originals\\\\IMG140.jpg',\n",
       " 'algo_test\\\\originals\\\\IMG141.jpg',\n",
       " 'algo_test\\\\originals\\\\IMG142.jpg',\n",
       " 'algo_test\\\\originals\\\\IMG143.jpg',\n",
       " 'algo_test\\\\originals\\\\IMG144.jpg',\n",
       " 'algo_test\\\\originals\\\\IMG145.jpg',\n",
       " 'algo_test\\\\originals\\\\IMG146.jpg',\n",
       " 'algo_test\\\\originals\\\\IMG147.jpg',\n",
       " 'algo_test\\\\originals\\\\IMG148.jpg',\n",
       " 'algo_test\\\\originals\\\\IMG149.jpg',\n",
       " 'algo_test\\\\originals\\\\IMG150.jpg',\n",
       " 'algo_test\\\\originals\\\\IMG151.jpg',\n",
       " 'algo_test\\\\originals\\\\IMG152.jpg',\n",
       " 'algo_test\\\\originals\\\\IMG153.jpg',\n",
       " 'algo_test\\\\originals\\\\IMG154.jpg',\n",
       " 'algo_test\\\\originals\\\\IMG155.jpg',\n",
       " 'algo_test\\\\originals\\\\IMG156.jpg',\n",
       " 'algo_test\\\\originals\\\\IMG157.jpg',\n",
       " 'algo_test\\\\originals\\\\IMG158.jpg',\n",
       " 'algo_test\\\\originals\\\\IMG159.jpg',\n",
       " 'algo_test\\\\originals\\\\IMG160.jpg',\n",
       " 'algo_test\\\\originals\\\\IMG161.jpg',\n",
       " 'algo_test\\\\originals\\\\IMG162.jpg',\n",
       " 'algo_test\\\\originals\\\\IMG163.jpg',\n",
       " 'algo_test\\\\originals\\\\IMG164.jpg',\n",
       " 'algo_test\\\\originals\\\\IMG165.jpg',\n",
       " 'algo_test\\\\originals\\\\IMG166.jpg',\n",
       " 'algo_test\\\\originals\\\\IMG167.jpg',\n",
       " 'algo_test\\\\originals\\\\IMG168.jpg']"
      ]
     },
     "execution_count": 2,
     "metadata": {},
     "output_type": "execute_result"
    }
   ],
   "source": [
    "Images = []\n",
    "\n",
    "for n_pics in range (0, 169):\n",
    "    img = 'algo_test'+os.sep+'originals'+os.sep+'IMG'+str(n_pics)+'.jpg'\n",
    "    Images.append(img)\n",
    "Images"
   ]
  },
  {
   "cell_type": "markdown",
   "id": "b91e03ce",
   "metadata": {},
   "source": [
    "Снятие отпечатка:"
   ]
  },
  {
   "cell_type": "code",
   "execution_count": 3,
   "id": "552e0709",
   "metadata": {},
   "outputs": [
    {
     "name": "stdout",
     "output_type": "stream",
     "text": [
      "*   168   *\r"
     ]
    }
   ],
   "source": [
    "RP,_,_ = gF.getFingerprint(Images)\n",
    "RP = Fu.rgb2gray1(RP)\n",
    "sigmaRP = np.std(RP)\n",
    "Fingerprint = Fu.WienerInDFT(RP, sigmaRP)"
   ]
  },
  {
   "cell_type": "markdown",
   "id": "decad684",
   "metadata": {},
   "source": [
    "Снятие отпечатка с изображений, сгенерированных нейросетью, и сравнение с отпечатком камеры."
   ]
  },
  {
   "cell_type": "code",
   "execution_count": 5,
   "id": "49e3e0c2",
   "metadata": {},
   "outputs": [
    {
     "data": {
      "text/plain": [
       "[0.7529250113191135,\n",
       " 0.14297288012697537,\n",
       " 0.0030366403362533843,\n",
       " 0.022249559526273336,\n",
       " 0.2938589037755774,\n",
       " 0.047867412540900454,\n",
       " 0.31469973641714793,\n",
       " -0.23592898451345876,\n",
       " -0.76729786741683,\n",
       " 3.27250397719999,\n",
       " -4.473893302898111,\n",
       " 6.18923573306114,\n",
       " 0.44919326598516784,\n",
       " 0.38891947489125445,\n",
       " -0.16212981053790568,\n",
       " -0.5079942806584604,\n",
       " 0.06818457489337508,\n",
       " -0.00027117904973290467,\n",
       " -0.14857301450035934,\n",
       " -0.008026602672028494,\n",
       " 2.2269945181903616,\n",
       " 0.10040486343838644,\n",
       " 0.7045078904473204,\n",
       " 1.0618248329463347,\n",
       " -0.0048218700053540425,\n",
       " 0.08263414981199418,\n",
       " -0.26137238221143516,\n",
       " 0.2002537502184776,\n",
       " -2.0251626813060986,\n",
       " -0.2000053058979024,\n",
       " -4.354564981011977,\n",
       " -0.27341373271756936,\n",
       " -0.007804335799141255]"
      ]
     },
     "execution_count": 5,
     "metadata": {},
     "output_type": "execute_result"
    }
   ],
   "source": [
    "pce_list = []\n",
    "\n",
    "for n_pics in range(0,33):\n",
    "    imx = 'algo_test'+os.sep+'examples'+os.sep+'pic'+str(n_pics)+'.png'\n",
    "    Noisex = Ft.NoiseExtractFromImage(imx, sigma=2.)\n",
    "    Noisex = Fu.WienerInDFT(Noisex, np.std(Noisex))\n",
    "    \n",
    "    Ix = cv.cvtColor(cv.imread(imx), cv.COLOR_BGR2GRAY)\n",
    "    C = Fu.crosscorr(Noisex,np.multiply(Ix, Fingerprint))\n",
    "    \n",
    "    det, det0 = md.PCE(C)\n",
    "    pce_list.append(det['PCE'])\n",
    "    \n",
    "    \n",
    "pce_list"
   ]
  },
  {
   "cell_type": "code",
   "execution_count": 24,
   "id": "8a6f8358",
   "metadata": {},
   "outputs": [
    {
     "name": "stdout",
     "output_type": "stream",
     "text": [
      "Biggest PCE index:  6.18923573306114  Picture Number:  11\n"
     ]
    }
   ],
   "source": [
    "max_value = max(pce_list)\n",
    "\n",
    "print(\"Biggest PCE index: \", max_value,\" Picture Number: \", pce_list.index(max_value))\n",
    "\n",
    "path = 'algo_test'+os.sep+'examples'+os.sep+'pic'+str(pce_list.index(max_value))+'.png'\n",
    "img = Image.open(path)\n",
    "img.show()"
   ]
  },
  {
   "cell_type": "markdown",
   "id": "22921350",
   "metadata": {},
   "source": [
    "Как видно из продемонстрированных данных, большая часть изображений, сгенерированных нейросетью, демонстрирует очень низкий коэффициент подобия (PCE), однако несколько изображений демонстрируют коэффициенты подобия, близкие к приемлемым значениям, самый большой из которых составляет около 6.2.\n",
    "\n",
    "Для сравнения, изображения из изначальной выборки, демонстрирующие коэффициент подобия >200, после сжатия до размеров 256х256 демонстрируют коэффициент подобия 2.47. \n",
    "\n",
    "Данный результат можно считать доказательством того, что подделка отпечатка камеры с помощью генеративных нейросетей (GAN) теоретически возможна."
   ]
  },
  {
   "cell_type": "code",
   "execution_count": null,
   "id": "f243922e",
   "metadata": {},
   "outputs": [],
   "source": []
  }
 ],
 "metadata": {
  "kernelspec": {
   "display_name": "Python 3 (ipykernel)",
   "language": "python",
   "name": "python3"
  },
  "language_info": {
   "codemirror_mode": {
    "name": "ipython",
    "version": 3
   },
   "file_extension": ".py",
   "mimetype": "text/x-python",
   "name": "python",
   "nbconvert_exporter": "python",
   "pygments_lexer": "ipython3",
   "version": "3.9.12"
  }
 },
 "nbformat": 4,
 "nbformat_minor": 5
}
